{
 "cells": [
  {
   "cell_type": "markdown",
   "id": "66af3979",
   "metadata": {},
   "source": [
    "# Plot neutralization data from collated studies\n",
    "\n",
    "Import Python modules:"
   ]
  },
  {
   "cell_type": "code",
   "execution_count": null,
   "id": "308005d8",
   "metadata": {
    "tags": []
   },
   "outputs": [],
   "source": [
    "import os\n",
    "import re\n",
    "\n",
    "import altair as alt\n",
    "\n",
    "import altair_saver\n",
    "\n",
    "import bindingcalculator\n",
    "\n",
    "import pandas as pd\n",
    "\n",
    "import scipy.stats"
   ]
  },
  {
   "cell_type": "markdown",
   "id": "7fa75ddd",
   "metadata": {},
   "source": [
    "Read in data from studies and calculate geometric means:"
   ]
  },
  {
   "cell_type": "code",
   "execution_count": null,
   "id": "b5e42477",
   "metadata": {
    "tags": []
   },
   "outputs": [],
   "source": [
    "data = pd.concat([(pd.read_csv(f, na_filter=None)\n",
    "                   .assign(study=os.path.basename(f).split('_')[0])\n",
    "                   [['study', 'group', 'sample', 'RBD_mutations', 'fold_change']]\n",
    "                   )\n",
    "                  for f in snakemake.input])\n",
    "\n",
    "geomeans = (\n",
    "    data\n",
    "    .groupby(['study', 'group', 'RBD_mutations'])\n",
    "    .aggregate(n_samples=pd.NamedAgg('sample', 'nunique'),\n",
    "               fold_change=pd.NamedAgg('fold_change', scipy.stats.gmean),\n",
    "               )\n",
    "    .reset_index()\n",
    "    .assign(sites=lambda x: x['RBD_mutations'].map(lambda s: [int(m[1: -1]) for m in s.split()]),\n",
    "            group=lambda x: x['group'].str.replace('convalescent', 'infected').str.replace('and', '&'),\n",
    "            group_first_word=lambda x: x['group'].str.split().str[0],\n",
    "            study=lambda x: x['study'].map(lambda s: ' & '.join([w for w in re.split('([A-Z][^A-Z]+)', s) if w])),\n",
    "            study_group=lambda x: x['study'] + ' (' + x['group'] + ')'\n",
    "            )\n",
    "    .sort_values(['group_first_word', 'study'])\n",
    "    )"
   ]
  },
  {
   "cell_type": "markdown",
   "id": "d5a81b5c",
   "metadata": {},
   "source": [
    "Create a binding calculator:"
   ]
  },
  {
   "cell_type": "code",
   "execution_count": null,
   "id": "fc5766a3",
   "metadata": {
    "tags": []
   },
   "outputs": [],
   "source": [
    "# use a pinned version of the data for this paper\n",
    "csv_or_url=\"https://raw.githubusercontent.com/jbloomlab/SARS2_RBD_Ab_escape_maps/bioRxiv_v1/processed_data/escape_calculator_data.csv\"\n",
    "\n",
    "bindcalc = bindingcalculator.BindingCalculator(\n",
    "    csv_or_url=csv_or_url,\n",
    "    metric=snakemake.params.metric,\n",
    ")\n",
    "\n",
    "geomeans['binding_score'] = geomeans['sites'].map(bindcalc.binding_retained)\n",
    "\n",
    "geomeans.head()"
   ]
  },
  {
   "cell_type": "markdown",
   "id": "57ae4599",
   "metadata": {},
   "source": [
    "Compute correlations:"
   ]
  },
  {
   "cell_type": "code",
   "execution_count": null,
   "id": "a9de7a5c",
   "metadata": {},
   "outputs": [],
   "source": [
    "corrs = (\n",
    "    geomeans\n",
    "    .groupby(\"study_group\")\n",
    "    .apply(lambda x: scipy.stats.pearsonr(x[\"fold_change\"], x[\"binding_score\"]))\n",
    "    .rename(\"corr_p\")\n",
    "    .reset_index()\n",
    "    .assign(\n",
    "        r=lambda x: x[\"corr_p\"].map(lambda tup: tup[0]),\n",
    "        p=lambda x: x[\"corr_p\"].map(lambda tup: tup[1]),\n",
    "        study_group_corr=lambda x: (\n",
    "            x[\"study_group\"] + x[\"r\"].map(lambda r: f\": R={r:.2f}\") + x[\"p\"].map(lambda p: f\", P={p:.1g}\")\n",
    "        ),\n",
    "    )\n",
    "    .drop(columns=\"corr_p\")\n",
    ")\n",
    "\n",
    "corrs"
   ]
  },
  {
   "cell_type": "markdown",
   "id": "23a0c894",
   "metadata": {},
   "source": [
    "Plot binding versus fold change:"
   ]
  },
  {
   "cell_type": "code",
   "execution_count": null,
   "id": "a2bdf1e1",
   "metadata": {
    "tags": []
   },
   "outputs": [],
   "source": [
    "chart = (\n",
    "    alt.Chart(geomeans.merge(corrs))\n",
    "    .encode(x=alt.X('fold_change',\n",
    "                    title='fold change in neutralization',\n",
    "                    scale=alt.Scale(type='log',\n",
    "                                    nice=False,\n",
    "                                    ),\n",
    "                    axis=alt.Axis(tickCount=4),\n",
    "                    ),\n",
    "            y=alt.Y('binding_score',\n",
    "                    title='calculated binding score',\n",
    "                    scale=alt.Scale(type='log',\n",
    "                                    nice=False,\n",
    "                                    ),\n",
    "                    ),\n",
    "            tooltip=['RBD_mutations',\n",
    "                     alt.Tooltip('fold_change', format='.2f'),\n",
    "                     alt.Tooltip('binding_score', format='.2f'),\n",
    "                     ],\n",
    "            facet=alt.Facet('study_group_corr',\n",
    "                            columns=3,\n",
    "                            title=None,\n",
    "                            sort=geomeans['study_group'].unique().tolist(),\n",
    "                            header=alt.Header(labelFontSize=12),\n",
    "                            ),\n",
    "            )\n",
    "    .properties(width=190, height=190)\n",
    "    .mark_point(filled=True,\n",
    "                size=100)\n",
    "    .resolve_scale(x='independent',\n",
    "                   y='independent')\n",
    "    )\n",
    "\n",
    "chart"
   ]
  },
  {
   "cell_type": "markdown",
   "id": "8f8d70c9",
   "metadata": {},
   "source": [
    "Save chart:"
   ]
  },
  {
   "cell_type": "code",
   "execution_count": null,
   "id": "47dc7cfc",
   "metadata": {
    "tags": []
   },
   "outputs": [],
   "source": [
    "html_chart = snakemake.output.html\n",
    "print(f\"Saving to {html_chart}\")\n",
    "chart.save(html_chart)\n",
    "\n",
    "png_chart = snakemake.output.png\n",
    "print(f\"Saving to {png_chart}\")\n",
    "altair_saver.save(chart, png_chart, vega_cli_options=['-s 4'])"
   ]
  },
  {
   "cell_type": "code",
   "execution_count": null,
   "id": "97cad403",
   "metadata": {},
   "outputs": [],
   "source": []
  }
 ],
 "metadata": {
  "kernelspec": {
   "display_name": "Python 3 (ipykernel)",
   "language": "python",
   "name": "python3"
  },
  "language_info": {
   "codemirror_mode": {
    "name": "ipython",
    "version": 3
   },
   "file_extension": ".py",
   "mimetype": "text/x-python",
   "name": "python",
   "nbconvert_exporter": "python",
   "pygments_lexer": "ipython3",
   "version": "3.8.12"
  }
 },
 "nbformat": 4,
 "nbformat_minor": 5
}
