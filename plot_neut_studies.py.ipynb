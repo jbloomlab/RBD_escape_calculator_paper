{
 "cells": [
  {
   "cell_type": "markdown",
   "id": "a8970a01",
   "metadata": {},
   "source": [
    "# Plot neutralization data from collated studies\n",
    "\n",
    "Import Python modules:"
   ]
  },
  {
   "cell_type": "code",
   "execution_count": null,
   "id": "33708b13",
   "metadata": {
    "tags": []
   },
   "outputs": [],
   "source": [
    "import os\n",
    "import re\n",
    "\n",
    "import altair as alt\n",
    "\n",
    "import altair_saver\n",
    "\n",
    "import bindingcalculator\n",
    "\n",
    "import pandas as pd\n",
    "\n",
    "import scipy.stats"
   ]
  },
  {
   "cell_type": "markdown",
   "id": "e890adad",
   "metadata": {},
   "source": [
    "Read in data from studies and calculate geometric means:"
   ]
  },
  {
   "cell_type": "code",
   "execution_count": null,
   "id": "8805c16a",
   "metadata": {
    "tags": []
   },
   "outputs": [],
   "source": [
    "data = pd.concat([(pd.read_csv(f, na_filter=None)\n",
    "                   .assign(study=os.path.basename(f).split('_')[0])\n",
    "                   [['study', 'group', 'sample', 'RBD_mutations', 'fold_change']]\n",
    "                   )\n",
    "                  for f in snakemake.input])\n",
    "\n",
    "geomeans = (\n",
    "    data\n",
    "    .groupby(['study', 'group', 'RBD_mutations'])\n",
    "    .aggregate(n_samples=pd.NamedAgg('sample', 'nunique'),\n",
    "               fold_change=pd.NamedAgg('fold_change', scipy.stats.gmean),\n",
    "               )\n",
    "    .reset_index()\n",
    "    .assign(sites=lambda x: x['RBD_mutations'].map(lambda s: [int(m[1: -1]) for m in s.split()]),\n",
    "            group=lambda x: x['group'].str.replace('convalescent', 'infected').str.replace('and', '&'),\n",
    "            group_first_word=lambda x: x['group'].str.split().str[0],\n",
    "            study=lambda x: x['study'].map(lambda s: ' & '.join([w for w in re.split('([A-Z][^A-Z]+)', s) if w])),\n",
    "            study_group=lambda x: x['study'] + ' (' + x['group'] + ')'\n",
    "            )\n",
    "    .sort_values(['group_first_word', 'study'])\n",
    "    )"
   ]
  },
  {
   "cell_type": "markdown",
   "id": "e9f45435",
   "metadata": {},
   "source": [
    "Create a binding calculator:"
   ]
  },
  {
   "cell_type": "code",
   "execution_count": null,
   "id": "b56b9999",
   "metadata": {
    "tags": []
   },
   "outputs": [],
   "source": [
    "bindcalc = bindingcalculator.BindingCalculator()\n",
    "\n",
    "geomeans['binding_score'] = geomeans['sites'].map(bindcalc.binding_retained)\n",
    "\n",
    "geomeans.head()"
   ]
  },
  {
   "cell_type": "markdown",
   "id": "13bde313",
   "metadata": {},
   "source": [
    "Plot binding versus fold change:"
   ]
  },
  {
   "cell_type": "code",
   "execution_count": null,
   "id": "152842cd",
   "metadata": {
    "tags": []
   },
   "outputs": [],
   "source": [
    "chart = (\n",
    "    alt.Chart(geomeans)\n",
    "    .encode(x=alt.X('fold_change',\n",
    "                    title='fold change in neutralization',\n",
    "                    scale=alt.Scale(type='log',\n",
    "                                    nice=False,\n",
    "                                    ),\n",
    "                    axis=alt.Axis(tickCount=4),\n",
    "                    ),\n",
    "            y=alt.Y('binding_score',\n",
    "                    title='escape score',\n",
    "                    scale=alt.Scale(type='log',\n",
    "                                    nice=False,\n",
    "                                    ),\n",
    "                    ),\n",
    "            tooltip=['RBD_mutations',\n",
    "                     alt.Tooltip('fold_change', format='.2f'),\n",
    "                     alt.Tooltip('binding_score', format='.2f'),\n",
    "                     ],\n",
    "            facet=alt.Facet('study_group',\n",
    "                            columns=3,\n",
    "                            title=None,\n",
    "                            sort=geomeans['study_group'].unique().tolist(),\n",
    "                            header=alt.Header(labelFontSize=12),\n",
    "                            ),\n",
    "            )\n",
    "    .properties(width=190, height=190)\n",
    "    .mark_point(filled=True,\n",
    "                size=100)\n",
    "    .resolve_scale(x='independent',\n",
    "                   y='independent')\n",
    "    )\n",
    "\n",
    "chart"
   ]
  },
  {
   "cell_type": "markdown",
   "id": "f549e174",
   "metadata": {},
   "source": [
    "Save chart:"
   ]
  },
  {
   "cell_type": "code",
   "execution_count": null,
   "id": "f47345b6",
   "metadata": {
    "tags": []
   },
   "outputs": [],
   "source": [
    "html_chart = snakemake.output.html\n",
    "print(f\"Saving to {html_chart}\")\n",
    "chart.save(html_chart)\n",
    "\n",
    "png_chart = snakemake.output.png\n",
    "print(f\"Saving to {png_chart}\")\n",
    "altair_saver.save(chart, png_chart, vega_cli_options=['-s 4'])"
   ]
  },
  {
   "cell_type": "code",
   "execution_count": null,
   "id": "819e1d5e",
   "metadata": {},
   "outputs": [],
   "source": []
  }
 ],
 "metadata": {
  "kernelspec": {
   "display_name": "Python 3 (ipykernel)",
   "language": "python",
   "name": "python3"
  },
  "language_info": {
   "codemirror_mode": {
    "name": "ipython",
    "version": 3
   },
   "file_extension": ".py",
   "mimetype": "text/x-python",
   "name": "python",
   "nbconvert_exporter": "python",
   "pygments_lexer": "ipython3",
   "version": "3.8.12"
  }
 },
 "nbformat": 4,
 "nbformat_minor": 5
}
