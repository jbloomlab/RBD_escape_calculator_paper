{
 "cells": [
  {
   "cell_type": "markdown",
   "metadata": {},
   "source": [
    "# Plot variants escape scores"
   ]
  },
  {
   "cell_type": "code",
   "execution_count": null,
   "metadata": {},
   "outputs": [],
   "source": [
    "import altair as alt\n",
    "\n",
    "import altair_saver\n",
    "\n",
    "import bindingcalculator\n",
    "\n",
    "import pandas as pd"
   ]
  },
  {
   "cell_type": "markdown",
   "metadata": {},
   "source": [
    "Read in data:"
   ]
  },
  {
   "cell_type": "code",
   "execution_count": null,
   "metadata": {
    "tags": []
   },
   "outputs": [],
   "source": [
    "bindcalc = bindingcalculator.BindingCalculator()\n",
    "\n",
    "data = (\n",
    "    pd.read_csv(snakemake.input.csv, na_filter=False)\n",
    "    .assign(mut_list=lambda x: x['mutated RBD sites'].map(lambda s:\n",
    "                                                          [int(m) for m in s.split()]),\n",
    "            escape_score=lambda x: x['mut_list'].map(bindcalc.binding_retained),\n",
    "            )\n",
    "    .rename(columns={'escape_score': 'calculated binding score'})\n",
    "    )\n",
    "\n",
    "data"
   ]
  },
  {
   "cell_type": "markdown",
   "metadata": {},
   "source": [
    "Plot data:"
   ]
  },
  {
   "cell_type": "code",
   "execution_count": null,
   "metadata": {
    "tags": []
   },
   "outputs": [],
   "source": [
    "chart = (\n",
    "    alt.Chart(data)\n",
    "    .encode(y=alt.Y('variant',\n",
    "                    sort=data.sort_values('calculated binding score', ascending=False)['variant'].tolist(),\n",
    "                    ),\n",
    "            x=alt.X('calculated binding score',\n",
    "                    scale=alt.Scale(type='log',\n",
    "                                    nice=False,\n",
    "                                    domain=(0.85 * data['calculated binding score'].min(),\n",
    "                                            data['calculated binding score'].max()),\n",
    "                                    ),\n",
    "                    ),\n",
    "            tooltip=['variant', 'mutated RBD sites', alt.Tooltip('calculated binding score', format='.2f')],\n",
    "            )\n",
    "    .mark_point(filled=True, size=70)\n",
    "    .properties(width=320, height=15 * data['variant'].nunique())\n",
    "    )\n",
    "\n",
    "chart.save(snakemake.output.html)\n",
    "\n",
    "altair_saver.save(chart, snakemake.output.png, vega_cli_options=['-s 4'])\n",
    "\n",
    "chart"
   ]
  },
  {
   "cell_type": "markdown",
   "metadata": {},
   "source": [
    "Write information variants to LaTex table:"
   ]
  },
  {
   "cell_type": "code",
   "execution_count": null,
   "metadata": {
    "tags": []
   },
   "outputs": [],
   "source": [
    "with pd.option_context(\"max_colwidth\", 1000):\n",
    "    (data\n",
    "     [['variant', 'mutated RBD sites']]\n",
    "     .to_latex(snakemake.output.table, index=False)\n",
    "     )"
   ]
  },
  {
   "cell_type": "code",
   "execution_count": null,
   "metadata": {},
   "outputs": [],
   "source": []
  }
 ],
 "metadata": {
  "kernelspec": {
   "display_name": "Python 3 (ipykernel)",
   "language": "python",
   "name": "python3"
  },
  "language_info": {
   "codemirror_mode": {
    "name": "ipython",
    "version": 3
   },
   "file_extension": ".py",
   "mimetype": "text/x-python",
   "name": "python",
   "nbconvert_exporter": "python",
   "pygments_lexer": "ipython3",
   "version": "3.8.12"
  }
 },
 "nbformat": 4,
 "nbformat_minor": 4
}
